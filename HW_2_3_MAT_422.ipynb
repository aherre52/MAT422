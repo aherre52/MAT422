{
  "nbformat": 4,
  "nbformat_minor": 0,
  "metadata": {
    "colab": {
      "provenance": [],
      "authorship_tag": "ABX9TyNcH4qd523KD21arhIzynEA",
      "include_colab_link": true
    },
    "kernelspec": {
      "name": "python3",
      "display_name": "Python 3"
    },
    "language_info": {
      "name": "python"
    }
  },
  "cells": [
    {
      "cell_type": "markdown",
      "metadata": {
        "id": "view-in-github",
        "colab_type": "text"
      },
      "source": [
        "<a href=\"https://colab.research.google.com/github/aherre52/MAT422/blob/main/HW_2_3_MAT_422.ipynb\" target=\"_parent\"><img src=\"https://colab.research.google.com/assets/colab-badge.svg\" alt=\"Open In Colab\"/></a>"
      ]
    },
    {
      "cell_type": "markdown",
      "source": [
        "# **HW 2.3: Independent variables and random samples**\n",
        "\n",
        "Concepts covered:\n",
        "\n",
        "\n",
        "* 2.3.1 Joint probability distributions\n",
        "* 2.3.2. Correlation and dependence\n",
        "* 2.3.3. Random samples"
      ],
      "metadata": {
        "id": "ix_h5JSajFrt"
      }
    },
    {
      "cell_type": "markdown",
      "source": [
        "#   2.3.1 Joint probability distributions\n",
        "\n",
        "The concept of **joint probability distributions** describes the probability of two or more random variables occurring together. For **discrete random variables**, the **joint probability mass function (PMF)** assigns probabilities to specific pairs of values. The joint probability mass function (PMF) for two discrete random variables $X$ and $Y$ is defined as:\n",
        "$$ p(x, y) = P(X = x \\, \\text{and} \\, Y = y) $$\n",
        "with the properties that:\n",
        "$$ p(x, y) \\geq 0 \\, \\text{for all} \\, x, y \\quad \\text{and} \\quad \\sum_{x} \\sum_{y} p(x, y) = 1 $$\n",
        "\n",
        "\n",
        "Whilst for **continuous random variables**, the **joint probability density function (PDF)** is used to determine probabilities over intervals. The joint probability density function (PDF) for two continuous random variables $X$ and $Y$ is given by:\n",
        "$$ f(x, y) \\quad \\text{such that} \\quad f(x, y) \\geq 0 $$\n",
        "and\n",
        "$$ \\int_{-\\infty}^{\\infty} \\int_{-\\infty}^{\\infty} f(x, y) \\, dx \\, dy = 1 $$\n",
        "\n",
        "**Marginal distributions** allow us to calculate the probability distribution of one variable by summing (or integrating) over the possible values of the other variable.\n",
        "\n",
        "For discrete random variables, the marginal PMF of $X$ is:\n",
        "$$ p_X(x) = \\sum_{y} p(x, y) $$\n",
        "and the marginal PMF of $Y$ is:\n",
        "$$ p_Y(y) = \\sum_{x} p(x, y) $$\n",
        "\n",
        "For continuous random variables, the marginal PDF of $X$ is:\n",
        "$$ f_X(x) = \\int_{-\\infty}^{\\infty} f(x, y) \\, dy $$\n",
        "and the marginal PDF of $Y$ is:\n",
        "$$ f_Y(y) = \\int_{-\\infty}^{\\infty} f(x, y) \\, dx $$\n",
        "\n",
        "Finally, **independent random variables** are defined as variables whose joint probability distribution is equal to the product of their marginal distributions, indicating that the occurrence of one variable does not affect the other.\n",
        "\n",
        "Two discrete random variables $X$ and $Y$ are independent if:\n",
        "$$ p(x, y) = p_X(x) \\cdot p_Y(y) \\quad \\text{for all values of} \\, x \\, \\text{and} \\, y $$\n",
        "\n",
        "Similarly, two continuous random variables $X$ and $Y$ are independent if:\n",
        "$$ f(x, y) = f_X(x) \\cdot f_Y(y) \\quad \\text{for all values of} \\, x \\, \\text{and} \\, y $$\n"
      ],
      "metadata": {
        "id": "leV5PiXPKv44"
      }
    },
    {
      "cell_type": "markdown",
      "source": [
        "# Mobile Web Response Time with Signal Strength\n",
        "\n",
        "(adapted problem from Engineering probability textbook)\n",
        "\n",
        "\n",
        "In mobile browsing, the response time of a webpage plays a crucial role in user experience. If the response time is too slow, users may abandon the site. This response time is influenced by various factors, including signal strength, measured by the number of bars. Let X represent the number of bars of signal strength, and Y represent the response time (in seconds, rounded to the nearest second)."
      ],
      "metadata": {
        "id": "rmsiSoZ59bwr"
      }
    },
    {
      "cell_type": "code",
      "source": [
        "import numpy as np\n",
        "import matplotlib.pyplot as plt\n",
        "\n",
        "# Joint probability mass function for Signal Strength (X) and Response Time (Y)\n",
        "joint_pmf_table = {\n",
        "    (1, 1): 0.10, (1, 2): 0.05, (1, 3): 0.05, (1, 4): 0.20,\n",
        "    (2, 1): 0.25, (2, 2): 0.10, (2, 3): 0.03, (2, 4): 0.02,\n",
        "    (3, 1): 0.02, (3, 2): 0.15, (3, 3): 0.01, (3, 4): 0.02\n",
        "}\n",
        "\n",
        "# Joint PMF function\n",
        "def joint_pmf(x, y):\n",
        "    return joint_pmf_table.get((x, y), 0)\n",
        "\n",
        "# Marginal probability mass function for Signal Strength X\n",
        "def marginal_pmf_X(x):\n",
        "    return sum(joint_pmf(x, y) for y in range(1, 5))\n",
        "\n",
        "# Marginal probability mass function for Response Time Y\n",
        "def marginal_pmf_Y(y):\n",
        "    return sum(joint_pmf(x, y) for x in range(1, 4))\n",
        "\n",
        "# Check if two random variables X and Y are independent\n",
        "def check_independence(x, y):\n",
        "    return np.isclose(joint_pmf(x, y), marginal_pmf_X(x) * marginal_pmf_Y(y))\n",
        "\n",
        "# setting up the joint probability mass function\n",
        "x_vals = [1, 2, 3]\n",
        "y_vals = [1, 2, 3, 4]\n",
        "joint_probabilities = np.array([[joint_pmf(x, y) for y in y_vals] for x in x_vals])\n",
        "\n",
        "\n",
        "# Print out the marginal probabilities for X\n",
        "for x in x_vals:\n",
        "    print(f\"Marginal PMF for X (Bars) = {x}: {marginal_pmf_X(x)}\")\n",
        "\n",
        "# Print out the marginal probabilities for Y\n",
        "for y in y_vals:\n",
        "    print(f\"Marginal PMF for Y (Response Time) = {y}: {marginal_pmf_Y(y)}\")\n",
        "\n",
        "# Example of independence check\n",
        "x = 2\n",
        "y = 3\n",
        "print(f\"Are X = {x} (Signal Bars) and Y = {y} (Response Time) independent? {check_independence(x, y)}\")\n",
        "\n",
        "RHS = marginal_pmf_X(x) * marginal_pmf_Y(y)\n",
        "LHS = joint_pmf(x, y)\n",
        "\n",
        "print(f\"Marginal PMF for {x} Bars * Marginal PMF for {y} second response time is {RHS}\")\n",
        "print(f\"Joint pmf when X = {x} and Y = {y} is {LHS}\")"
      ],
      "metadata": {
        "colab": {
          "base_uri": "https://localhost:8080/"
        },
        "id": "2ugzFzw99VeE",
        "outputId": "53bf5be8-9cd4-4011-d365-8083e9c8cd37"
      },
      "execution_count": 17,
      "outputs": [
        {
          "output_type": "stream",
          "name": "stdout",
          "text": [
            "Marginal PMF for X (Bars) = 1: 0.4\n",
            "Marginal PMF for X (Bars) = 2: 0.4\n",
            "Marginal PMF for X (Bars) = 3: 0.19999999999999998\n",
            "Marginal PMF for Y (Response Time) = 1: 0.37\n",
            "Marginal PMF for Y (Response Time) = 2: 0.30000000000000004\n",
            "Marginal PMF for Y (Response Time) = 3: 0.09\n",
            "Marginal PMF for Y (Response Time) = 4: 0.24\n",
            "Are X = 2 (Signal Bars) and Y = 3 (Response Time) independent? False\n",
            "Marginal PMF for 2 Bars * Marginal PMF for 3 second response time is 0.036\n",
            "Joint pmf when X = 2 and Y = 3 is 0.03\n"
          ]
        }
      ]
    },
    {
      "cell_type": "markdown",
      "source": [
        "#    2.3.2. Correlation and dependence\n",
        "\n",
        "In the analysis of the relationship between two random variables $X$ and $Y$, covariance and correlation are crucial concepts. The covariance is defined as\n",
        "\n",
        "$$\n",
        "\\text{Cov}(X,Y) = E[(X - \\mu_X)(Y - \\mu_Y)] = \\sum_x \\sum_y (x - \\mu_X)(y - \\mu_Y) p(x,y) \\quad \\text{(for discrete variables)}\n",
        "$$\n",
        "\n",
        "or\n",
        "\n",
        "$$\n",
        "\\text{Cov}(X,Y) = \\int_{-\\infty}^{\\infty} \\int_{-\\infty}^{\\infty} (x - \\mu_X)(y - \\mu_Y) f(x,y) \\,dx \\,dy \\quad \\text{(for continuous variables)}\n",
        "$$\n",
        "\n",
        "where $\\mu_X$ and $\\mu_Y$ are the expected values of $X$ and $Y$, respectively. The correlation coefficient, denoted as $ \\rho_{X,Y} $, quantifies the strength and direction of the linear relationship between the two variables:\n",
        "\n",
        "$$\n",
        "\\rho_{X,Y} = \\frac{\\text{Cov}(X,Y)}{\\sigma_X \\cdot \\sigma_Y}\n",
        "$$\n",
        "\n",
        "where $\\sigma_X$ and $\\sigma_Y$ are the standard deviations of $X$ and $Y$. The correlation coefficient has properties such as $ |\\rho| \\leq 1 $ and $ \\rho = 0 $ indicating independence only if $X$ and $Y$ are actually independent.\n"
      ],
      "metadata": {
        "id": "XyE9tF1ZLimK"
      }
    },
    {
      "cell_type": "markdown",
      "source": [
        "# Mobile Web Response Time with Signal Strength cont.\n",
        "\n",
        "The below program uses the same problem set-up as the discrete joint pmf program. It then computes the expected values, variances, and covariance for these random variables. Finally, the code calculates the correlation coefficient between X and Y, providing insights into their relationship. This setup can be used to analyze the dependencies between signal strength and response time, which are crucial for performance assessment in communication systems."
      ],
      "metadata": {
        "id": "vVzSiubmxLzp"
      }
    },
    {
      "cell_type": "code",
      "source": [
        "# Since reusing setup from above program, don't need to redefine the functions or variables\n",
        "\n",
        "# Expected value of X (E[X])\n",
        "def expected_value_X():\n",
        "    return sum(x * marginal_pmf_X(x) for x in range(1, 4))\n",
        "\n",
        "# Expected value of Y (E[Y])\n",
        "def expected_value_Y():\n",
        "    return sum(y * marginal_pmf_Y(y) for y in range(1, 5))\n",
        "\n",
        "# Covariance function for X and Y\n",
        "def covariance_X_Y():\n",
        "    E_X = expected_value_X()\n",
        "    E_Y = expected_value_Y()\n",
        "    cov = 0\n",
        "    for x in range(1, 4):\n",
        "        for y in range(1, 5):\n",
        "            cov += (x - E_X) * (y - E_Y) * joint_pmf(x, y)\n",
        "    return cov\n",
        "\n",
        "# Calculate variance for X and Y\n",
        "def variance_X():\n",
        "    E_X = expected_value_X()\n",
        "    var = 0\n",
        "    for x in range(1, 4):\n",
        "        var += (x - E_X) ** 2 * marginal_pmf_X(x)\n",
        "    return var\n",
        "\n",
        "def variance_Y():\n",
        "    E_Y = expected_value_Y()\n",
        "    var = 0\n",
        "    for y in range(1, 5):\n",
        "        var += (y - E_Y) ** 2 * marginal_pmf_Y(y)\n",
        "    return var\n",
        "\n",
        "# Correlation coefficient function\n",
        "def correlation_coefficient():\n",
        "    cov = covariance_X_Y()\n",
        "    std_X = np.sqrt(variance_X())\n",
        "    std_Y = np.sqrt(variance_Y())\n",
        "    if std_X == 0 or std_Y == 0:\n",
        "        return None  # Avoid division by zero\n",
        "    return cov / (std_X * std_Y)\n",
        "\n",
        "# Calculate results\n",
        "cov_XY = covariance_X_Y()\n",
        "corr_XY = correlation_coefficient()\n",
        "\n",
        "# Print results focused on covariance and correlation\n",
        "print(f\"Covariance between X (Signal Strength) and Y (Response Time): {cov_XY:.4f}\")\n",
        "print(f\"Correlation coefficient between X and Y: {corr_XY:.4f}\" if corr_XY is not None else \"Correlation coefficient is undefined.\")\n"
      ],
      "metadata": {
        "colab": {
          "base_uri": "https://localhost:8080/"
        },
        "id": "c3fex6cMx9em",
        "outputId": "538547a9-2833-4021-b3bc-ebb289fb00ad"
      },
      "execution_count": 15,
      "outputs": [
        {
          "output_type": "stream",
          "name": "stdout",
          "text": [
            "Covariance between X (Signal Strength) and Y (Response Time): -0.2800\n",
            "Correlation coefficient between X and Y: -0.3185\n"
          ]
        }
      ]
    },
    {
      "cell_type": "markdown",
      "source": [
        "# 2.3.3. Random samples\n",
        "\n",
        "\n",
        "A simple random sample consists of independent random variables drawn from the same probability distribution. The sample mean, denoted as $\\bar{X}$, is calculated as $$\\bar{X} = \\frac{1}{n}(X_1 + \\cdots + X_n)$$which provides an estimate of the population mean $\\mu$.\n",
        "\n",
        "According to the central limit theorem, as the sample size $n$ increases, the distribution of $\\bar{X}$ approaches a normal distribution, regardless of the population's original distribution. The properties of the sample mean, such as $E(\\bar{X}) = \\mu$ and $Var(\\bar{X}) = \\frac{\\sigma^2}{n}$, highlight the relationship between sample size and the variability of the sample mean.\n",
        "\n",
        "\n"
      ],
      "metadata": {
        "id": "1YBRelvkEIrq"
      }
    },
    {
      "cell_type": "markdown",
      "source": [
        "# Students Test Scores\n",
        "\n",
        "This example simulates a population of 1,000 students' test scores and draws random samples from this population. It demonstrates how the distribution of sample means approaches a normal distribution as the number of samples increases, while maintaining a consistent sample size. This illustrates the central limit theorem in action."
      ],
      "metadata": {
        "id": "8qq6V5DUVleI"
      }
    },
    {
      "cell_type": "code",
      "source": [
        "import numpy as np\n",
        "import matplotlib.pyplot as plt\n",
        "\n",
        "# Set the random seed for reproducibility\n",
        "np.random.seed(42)\n",
        "\n",
        "# Simulate a population of test scores (ranging from 80 to 100)\n",
        "population_size = 1000\n",
        "# Generate scores from a normal distribution with mean 88 and standard deviation 4\n",
        "population = np.random.normal(loc=88, scale=4, size=population_size)\n",
        "\n",
        "# Clip the population to a minimum of 80 and a maximum of 100\n",
        "# This ensures that all scores fall within the valid range I've chosen to define\n",
        "population = np.clip(population, 80, 100)\n",
        "\n",
        "# Define this function to draw random samples and calculate sample means\n",
        "def sample_means(population, sample_size, num_samples):\n",
        "    means = []\n",
        "    for _ in range(num_samples):\n",
        "        # Randomly select a sample from the population without replacement\n",
        "        sample = np.random.choice(population, size=sample_size, replace=False)\n",
        "        # Calculate the mean of the sample and store it\n",
        "        means.append(np.mean(sample))\n",
        "    return means\n",
        "\n",
        "# Will use these parameters for sampling\n",
        "sample_size = 30  # Size of each sample\n",
        "num_samples = 200  # Number of samples to draw for the first histogram\n",
        "\n",
        "# Draw random samples and compute sample means for 200 samples\n",
        "means1 = sample_means(population, sample_size, num_samples)\n",
        "\n",
        "# Will keep sample size same but adjust number drawn\n",
        "num_samples = 500  # Number of samples to draw for the second histogram\n",
        "\n",
        "means2 = sample_means(population, sample_size, num_samples)\n",
        "\n",
        "# Plot the results side by side\n",
        "plt.figure(figsize=(18, 6))\n",
        "\n",
        "# Plot the original population distribution\n",
        "plt.subplot(1, 3, 1)\n",
        "plt.hist(population, bins=20, color='skyblue', edgecolor='black', alpha=0.7)\n",
        "plt.title('Population Distribution of Test Scores (80-100)')\n",
        "plt.xlabel('Test Scores')\n",
        "plt.ylabel('Frequency')\n",
        "\n",
        "# Plot the distribution of sample means for 200 samples\n",
        "plt.subplot(1, 3, 2)\n",
        "plt.hist(means1, bins=30, color='lightgreen', edgecolor='black', alpha=0.7)\n",
        "plt.title(f'Distribution of Sample Means (200 Samples, n={sample_size})')\n",
        "plt.xlabel('Sample Means')\n",
        "plt.ylabel('Frequency')\n",
        "\n",
        "# Plot the distribution of sample means for 500 samples\n",
        "plt.subplot(1, 3, 3)\n",
        "plt.hist(means2, bins=30, color='lightgreen', edgecolor='black', alpha=0.7)\n",
        "plt.title(f'Distribution of Sample Means (500 Samples, n={sample_size})')\n",
        "plt.xlabel('Sample Means')\n",
        "plt.ylabel('Frequency')\n",
        "\n",
        "plt.tight_layout()\n",
        "plt.show()\n",
        "\n",
        "# Display the theoretical mean and standard deviation\n",
        "population_mean = np.mean(population)\n",
        "population_std = np.std(population)\n",
        "\n",
        "print(f\"Population Mean (μ): {population_mean:.2f}\")\n",
        "print(f\"Population Standard Deviation (σ): {population_std:.2f}\")\n",
        "print(f\"Sample Mean 1 (should be close to μ): {np.mean(means1):.2f}\")\n",
        "print(f\"Sample Standard Deviation 1 (σX̄): {np.std(means1):.2f}\")\n",
        "print(f\"Sample Mean 2 (should be close to μ): {np.mean(means2):.2f}\")\n",
        "print(f\"Sample Standard Deviation 2 (σX̄): {np.std(means2):.2f}\")\n"
      ],
      "metadata": {
        "colab": {
          "base_uri": "https://localhost:8080/",
          "height": 711
        },
        "id": "cDs0LvuZwcVc",
        "outputId": "07ced11c-56a5-4e66-a532-88d346cd6812"
      },
      "execution_count": 21,
      "outputs": [
        {
          "output_type": "display_data",
          "data": {
            "text/plain": [
              "<Figure size 1800x600 with 3 Axes>"
            ],
            "image/png": "[encoded data removed]"
          },
          "metadata": {}
        },
        {
          "output_type": "stream",
          "name": "stdout",
          "text": [
            "Population Mean (μ): 88.09\n",
            "Population Standard Deviation (σ): 3.85\n",
            "Sample Mean 1 (should be close to μ): 88.12\n",
            "Sample Standard Deviation 1 (σX̄): 0.66\n",
            "Sample Mean 2 (should be close to μ): 88.05\n",
            "Sample Standard Deviation 2 (σX̄): 0.72\n"
          ]
        }
      ]
    }
  ]
}