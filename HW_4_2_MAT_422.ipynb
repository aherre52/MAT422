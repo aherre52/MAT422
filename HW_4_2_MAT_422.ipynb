{
  "nbformat": 4,
  "nbformat_minor": 0,
  "metadata": {
    "colab": {
      "provenance": [],
      "authorship_tag": "ABX9TyPE0TQA8ntQpjqL5JtZQtLj",
      "include_colab_link": true
    },
    "kernelspec": {
      "name": "python3",
      "display_name": "Python 3"
    },
    "language_info": {
      "name": "python"
    }
  },
  "cells": [
    {
      "cell_type": "markdown",
      "metadata": {
        "id": "view-in-github",
        "colab_type": "text"
      },
      "source": [
        "<a href=\"https://colab.research.google.com/github/aherre52/MAT422/blob/main/HW_4_2_MAT_422.ipynb\" target=\"_parent\"><img src=\"https://colab.research.google.com/assets/colab-badge.svg\" alt=\"Open In Colab\"/></a>"
      ]
    },
    {
      "cell_type": "markdown",
      "source": [
        "# **HW 4.2. Graph and graph modeling**\n",
        "\n",
        "Concepts covered:\n",
        "\n",
        "\n",
        "* 4.2. Graph and graph modeling\n",
        "\n"
      ],
      "metadata": {
        "id": "ix_h5JSajFrt"
      }
    },
    {
      "cell_type": "markdown",
      "source": [
        "# 4.2. Graph and graph modeling\n",
        "\n",
        "\n",
        "Graphs are mathematical structures used to model relationships, consisting of nodes (vertices) and connections (edges). A graph $G$ is denoted as $G(V, E)$, where $V = \\{v_1, v_2, \\dots, v_n\\}$ represents nodes and $E = \\{e_1, e_2, \\dots, e_m\\}$ represents edges. Edges can be directed or undirected, defining directed graphs, undirected graphs, or mixed graphs.\n",
        "\n",
        "A **path** in a graph is a sequence of edges connecting distinct nodes, while a **cycle** is a closed path. Usually, we have interest in finding the **shortest path** between two nodes and this serves as the basis for defining the $n$-hop neighborhood of a node. The **degree** of a node, indicating its connected edges, is central to graph analysis, with distinctions made between in-degree and out-degree for directed graphs.\n",
        "\n",
        "Graphs can be represented by matrices. The **adjacency matrix** $A$ is an $n \\times n$ matrix where $A_{ij} = 1$ if there is an edge between nodes $v_i$ and $v_j$, and 0 otherwise. Directed graphs result in asymmetric matrices, while undirected graphs produce symmetric matrices.\n",
        "\n",
        "The **Laplacian matrix** $L$ is defined as:\n",
        "$$\n",
        "L_{ij} =\n",
        "\\begin{cases}\n",
        "\\sum_k E_{ik}, & i = j \\\\\n",
        "-E_{ij}, & i \\neq j \\text{ and nodes } v_i, v_j \\text{ are adjacent} \\\\\n",
        "0, & \\text{otherwise}.\n",
        "\\end{cases}\n",
        "$$\n",
        "This matrix is critical for analyzing properties like graph connectivity and spectral characteristics.\n",
        "\n",
        "The **incidence matrix** $I_G$ encodes edge-node relationships, with entries representing edge weights and directions. For a weighted graph, properties like $L = I_G I_G^T$ relate these representations. Eigenvalues of $A$ and $L$ are used to measure graph centrality and structure, with the largest eigenvalue often identifying the most central node.\n",
        "\n",
        "In examples, adjacency and Laplacian matrices are calculated for specific graphs, and eigenvalues/eigenvectors demonstrate how central nodes and edge weights influence graph behavior. For instance, eigenvector centrality highlights node significance, such as:\n",
        "$$\n",
        "(A - \\lambda I)c = 0,\n",
        "$$\n",
        "where $c$ is the eigenvector and $\\lambda$ is the eigenvalue.\n"
      ],
      "metadata": {
        "id": "leV5PiXPKv44"
      }
    },
    {
      "cell_type": "markdown",
      "source": [
        "# Code description\n",
        "\n",
        "This code calculates the output of a simple neural network layer with two inputs, weights, a bias, and an activation function. It computes the linear combination $$ z = w_1 \\cdot x_1 + w_2 \\cdot x_2 + b $$ and then applies the sigmoid activation function $$ \\hat{y} = \\frac{1}{1 + e^{-z}} $$ to produce the final output. The result, $ \\hat{y} $, represents the activated output of the layer given the specified parameters."
      ],
      "metadata": {
        "id": "rmsiSoZ59bwr"
      }
    },
    {
      "cell_type": "code",
      "source": [
        "# will use the library networkx\n",
        "import networkx as nx\n",
        "import numpy as np\n",
        "import matplotlib.pyplot as plt\n",
        "\n",
        "# Create a graph using networkx\n",
        "G = nx.Graph()\n",
        "\n",
        "# Add edges to the graph, make it connected\n",
        "edges = [(0, 1), (0, 2), (1, 3), (1, 5), (4, 0)]\n",
        "G.add_edges_from(edges)\n",
        "\n",
        "# Want to display graph representations\n",
        "def display_adj_list(graph):\n",
        "    print(\"Adjacency List:\")\n",
        "    # Loop through each node in the graph\n",
        "    for node in graph.nodes():\n",
        "        # For the current node, get its neighbors\n",
        "        neighbors = list(graph.neighbors(node))\n",
        "        # Print it\n",
        "        print(f\"{node}: {neighbors}\")\n",
        "\n",
        "# Use this to display the adjacency matrix\n",
        "def display_adj_matrix(graph):\n",
        "    print(\"Adjacency Matrix:\")\n",
        "    # Get the adjacency matrix and convert its format\n",
        "    matrix = nx.adjacency_matrix(graph).todense()\n",
        "    # now print each row from the matrix\n",
        "    for row in matrix:\n",
        "        print(row)\n",
        "\n",
        "# Perform a Depth-First Search (DFS), a popular technique\n",
        "def dfs(graph, start):\n",
        "    # use this list to keep track of visited nodes\n",
        "    visited = []\n",
        "    #  use stack to manage nodes for traversal\n",
        "    stack = [start]\n",
        "\n",
        "    # loop until becomes empty\n",
        "    while stack:\n",
        "        # pop the top node from stack\n",
        "        node = stack.pop()\n",
        "        if node not in visited:\n",
        "            visited.append(node)\n",
        "            # add unvisited neighbors to stack in reverse order\n",
        "            stack.extend(reversed(list(graph.neighbors(node))))\n",
        "\n",
        "    return visited\n",
        "\n",
        "# Check if the graph is connected\n",
        "def is_connected(graph):\n",
        "    return nx.is_connected(graph)\n",
        "\n",
        "# Eigenvalue and Eigenvector calculations (Laplacian matrix)\n",
        "def compute_laplacian_eigen(graph):\n",
        "    # Get adjacency matrix and degree matrix\n",
        "    A = nx.adjacency_matrix(graph).todense()\n",
        "    degree_matrix = np.diag(np.sum(A, axis=1))\n",
        "\n",
        "    # Compute the Laplacian matrix: L = D - A\n",
        "    L = degree_matrix - A\n",
        "\n",
        "    # Compute the eigenvalues and eigenvectors of the Laplacian matrix\n",
        "    eigenvalues, eigenvectors = np.linalg.eig(L)\n",
        "\n",
        "    return eigenvalues, eigenvectors\n",
        "\n",
        "# Display Eigenvalues and Eigenvectors\n",
        "def display_eigenvalues_eigenvectors(eigenvalues, eigenvectors):\n",
        "    print(\"Eigenvalues of the Laplacian Matrix:\")\n",
        "    print(eigenvalues)\n",
        "    print(\"Eigenvectors of the Laplacian Matrix:\\n\", eigenvectors)\n",
        "\n",
        "# Find the second smallest eigenvalue (Fiedler value) and Fiedler vector\n",
        "def display_fiedler_vector(eigenvalues, eigenvectors):\n",
        "    nonzero_eigenvalues = eigenvalues[np.abs(eigenvalues) > 1e-10]\n",
        "    second_smallest_eigenvalue = np.sort(nonzero_eigenvalues)[0]\n",
        "    print(f\"Second smallest eigenvalue (Fiedler value): {second_smallest_eigenvalue}\")\n",
        "\n",
        "    fiedler_vector = eigenvectors[:, np.argsort(eigenvalues)[1]]\n",
        "    print(\"Fiedler Vector:\", fiedler_vector)\n",
        "\n",
        "# Display the represenations of the graph\n",
        "display_adj_list(G)\n",
        "print()\n",
        "display_adj_matrix(G)\n",
        "print()\n",
        "\n",
        "# Perform DFS starting from vertex 3\n",
        "print(\"DFS Traversal starting from vertex 3:\")\n",
        "print(dfs(G, 3))\n",
        "print()\n",
        "\n",
        "# Check if the graph is connected\n",
        "print(\"Is the graph connected?\")\n",
        "print(\"Yes\" if is_connected(G) else \"No\")\n",
        "print()\n",
        "\n",
        "# Eigenvalue and Eigenvector calculations\n",
        "eigenvalues, eigenvectors = compute_laplacian_eigen(G)\n",
        "display_eigenvalues_eigenvectors(eigenvalues, eigenvectors)\n",
        "display_fiedler_vector(eigenvalues, eigenvectors)\n",
        "\n",
        "# Provide a visualization of the graph\n",
        "print(\"Graph Visualization:\")\n",
        "pos = nx.spring_layout(G, seed=42)\n",
        "nx.draw(G, pos, with_labels=True, node_color=\"lightblue\", node_size=700, font_size=10)\n",
        "plt.show()\n"
      ],
      "metadata": {
        "colab": {
          "base_uri": "https://localhost:8080/",
          "height": 1000
        },
        "id": "8fMZQrh0WQqU",
        "outputId": "a9d5f03a-c653-4f59-c7ae-a1c68a924654"
      },
      "execution_count": 16,
      "outputs": [
        {
          "output_type": "stream",
          "name": "stdout",
          "text": [
            "Adjacency List:\n",
            "0: [1, 2, 4]\n",
            "1: [0, 3, 5]\n",
            "2: [0]\n",
            "3: [1]\n",
            "5: [1]\n",
            "4: [0]\n",
            "\n",
            "Adjacency Matrix:\n",
            "[0 1 1 0 0 1]\n",
            "[1 0 0 1 1 0]\n",
            "[1 0 0 0 0 0]\n",
            "[0 1 0 0 0 0]\n",
            "[0 1 0 0 0 0]\n",
            "[1 0 0 0 0 0]\n",
            "\n",
            "DFS Traversal starting from vertex 3:\n",
            "[3, 1, 0, 2, 4, 5]\n",
            "\n",
            "Is the graph connected?\n",
            "Yes\n",
            "\n",
            "Eigenvalues of the Laplacian Matrix:\n",
            "[4.56155281e+00 3.00000000e+00 4.48425140e-16 4.38447187e-01\n",
            " 1.00000000e+00 1.00000000e+00]\n",
            "Eigenvectors of the Laplacian Matrix:\n",
            " [[ 6.57192300e-01 -5.77350269e-01  4.08248290e-01 -2.60956474e-01\n",
            "  -2.75494334e-18 -6.22638209e-17]\n",
            " [-6.57192300e-01 -5.77350269e-01  4.08248290e-01  2.60956474e-01\n",
            "   3.66646636e-17  3.45707511e-17]\n",
            " [-1.84524092e-01  2.88675135e-01  4.08248290e-01 -4.64705132e-01\n",
            "   1.87619600e-01 -7.06910345e-01]\n",
            " [ 1.84524092e-01  2.88675135e-01  4.08248290e-01  4.64705132e-01\n",
            "  -6.81761605e-01 -1.66662711e-02]\n",
            " [ 1.84524092e-01  2.88675135e-01  4.08248290e-01  4.64705132e-01\n",
            "   6.81761605e-01  1.66662711e-02]\n",
            " [-1.84524092e-01  2.88675135e-01  4.08248290e-01 -4.64705132e-01\n",
            "  -1.87619600e-01  7.06910345e-01]]\n",
            "Second smallest eigenvalue (Fiedler value): 0.4384471871911699\n",
            "Fiedler Vector: [-0.26095647  0.26095647 -0.46470513  0.46470513  0.46470513 -0.46470513]\n",
            "Graph Visualization:\n"
          ]
        },
        {
          "output_type": "display_data",
          "data": {
            "text/plain": [
              "<Figure size 640x480 with 1 Axes>"
            ],
            "image/png": "[encoded data removed]"
          },
          "metadata": {}
        }
      ]
    }
  ]
}