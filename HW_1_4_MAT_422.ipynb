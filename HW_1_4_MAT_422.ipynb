{
  "nbformat": 4,
  "nbformat_minor": 0,
  "metadata": {
    "colab": {
      "provenance": [],
      "authorship_tag": "ABX9TyML8L1m/sCNagZ8rdgUpdic",
      "include_colab_link": true
    },
    "kernelspec": {
      "name": "python3",
      "display_name": "Python 3"
    },
    "language_info": {
      "name": "python"
    }
  },
  "cells": [
    {
      "cell_type": "markdown",
      "metadata": {
        "id": "view-in-github",
        "colab_type": "text"
      },
      "source": [
        "<a href=\"https://colab.research.google.com/github/aherre52/MAT422/blob/main/HW_1_4_MAT_422.ipynb\" target=\"_parent\"><img src=\"https://colab.research.google.com/assets/colab-badge.svg\" alt=\"Open In Colab\"/></a>"
      ]
    },
    {
      "cell_type": "markdown",
      "source": [
        "# **HW 1.4**\n",
        "# **Principal Component Analysis**\n",
        "\n",
        "Concepts covered:\n",
        "\n",
        "\n",
        "*   1.4.1. Singular value decomposition\n",
        "*   1.4.2. Low-rank matrix approximations\n",
        "*   1.4.3. Principal component analysis\n",
        "\n",
        "\n",
        "\n",
        "\n",
        "\n",
        "\n"
      ],
      "metadata": {
        "id": "ix_h5JSajFrt"
      }
    },
    {
      "cell_type": "markdown",
      "source": [
        "#   1.4.1. Singular value decomposition\n",
        "\n",
        "In Singular Value Decomposition (SVD), we decompose a matrix $A$ into the form $A = U \\Sigma V^T$, where $U$ and $V$ are orthogonal matrices, and $\\Sigma$ is a diagonal matrix containing the singular values of $A$. The singular values $\\sigma_i$ are the square roots of the eigenvalues of $A^T A$, and they represent the lengths of the vectors $A v_i$, where $v_i$ are the eigenvectors of $A^T A$. The columns of $U$ are called the left singular vectors, and the columns of $V$ are the right singular vectors. The number of non-zero singular values determines the rank of the matrix, which corresponds to the dimension of the column space of $A$.\n",
        "\n",
        "Its important to note that SVD works for any $m \\times n$ matrix since it  decomposes both square and non-square matrices, making it an extrmely useful tool for analyzing data of various dimensions. This adaptability is especially useful in applications like reducing dimensionality, the compression of images, and solving least-squares problems, where the matrices involved are typically not square."
      ],
      "metadata": {
        "id": "leV5PiXPKv44"
      }
    },
    {
      "cell_type": "code",
      "execution_count": 3,
      "metadata": {
        "colab": {
          "base_uri": "https://localhost:8080/"
        },
        "id": "O9MSxTJojCNn",
        "outputId": "1ad5c0fe-a328-4455-ee7f-8222cc14b3b0"
      },
      "outputs": [
        {
          "output_type": "stream",
          "name": "stdout",
          "text": [
            "Random 3x5 Matrix A:\n",
            "[[82 48 74 16 98]\n",
            " [25 58 99 26 66]\n",
            " [46 54 77 74 73]]\n",
            "My SVD Results:\n",
            "U:\n",
            " [[ 6.10888650e-01  7.88543024e-01 -7.08163591e-02  1.80653984e-08\n",
            "   1.80653984e-08]\n",
            " [ 5.38415128e-01 -3.48197667e-01  7.67377048e-01  3.36100458e-09\n",
            "   3.36100458e-09]\n",
            " [ 5.80451727e-01 -5.06910528e-01 -6.37273496e-01 -6.59630169e-09\n",
            "  -6.59630169e-09]]\n",
            "Sigma:\n",
            " [[246.03309123   0.           0.           0.           0.        ]\n",
            " [  0.          53.29818103   0.           0.           0.        ]\n",
            " [  0.           0.          39.7369088    0.           0.        ]]\n",
            "V^T:\n",
            " [[ 0.36683694+0.j          0.37350718+0.j          0.58205033+0.j\n",
            "   0.27120921+0.j          0.55998753+0.j        ]\n",
            " [ 0.61236052+0.j         -0.18234333+0.j         -0.28427792+0.j\n",
            "  -0.63694162+0.j          0.32443324+0.j        ]\n",
            " [-0.40106532+0.j          0.16850618+0.j          0.5450816 +0.j\n",
            "  -0.7131782 +0.j         -0.07081787+0.j        ]\n",
            " [-0.03878529-0.37304723j -0.67766374+0.j          0.30451324-0.22593278j\n",
            "   0.08242303-0.01100656j  0.12097454+0.48454085j]\n",
            " [-0.03878529+0.37304723j -0.67766374-0.j          0.30451324+0.22593278j\n",
            "   0.08242303+0.01100656j  0.12097454-0.48454085j]]\n",
            "\n",
            "NumPy SVD Results:\n",
            "U:\n",
            " [[-0.61088865  0.78854302  0.07081636]\n",
            " [-0.53841513 -0.34819767 -0.76737705]\n",
            " [-0.58045173 -0.50691053  0.6372735 ]]\n",
            "Sigma:\n",
            " [[246.03309123   0.           0.        ]\n",
            " [  0.          53.29818103   0.        ]\n",
            " [  0.           0.          39.7369088 ]]\n",
            "V^T:\n",
            " [[-0.36683694 -0.37350718 -0.58205033 -0.27120921 -0.55998753]\n",
            " [ 0.61236052 -0.18234333 -0.28427792 -0.63694162  0.32443324]\n",
            " [ 0.40106532 -0.16850618 -0.5450816   0.7131782   0.07081787]\n",
            " [ 0.05612259 -0.87929547  0.45958727  0.11008783  0.01870681]\n",
            " [-0.57135113 -0.16027614 -0.26845683  0.00290733  0.75880954]]\n",
            "\n",
            "Rank of matrix A (from singular values): 3\n"
          ]
        }
      ],
      "source": [
        "import numpy as np\n",
        "import matplotlib.pyplot as plt\n",
        "\n",
        "# Will manually implement SVD to demonstrate understanding of each step\n",
        "def my_svd(A):\n",
        "    # Step 1: compute A^T A, store it in a variable\n",
        "    ATA = A.T @ A\n",
        "\n",
        "    # Step 2: get eigenvalue decomposition of A^T A\n",
        "    eigenvalues, V = np.linalg.eig(ATA)\n",
        "\n",
        "    # Step 3: now will sort the eigenvalues in decreasing order\n",
        "    sortedEigVals = np.argsort(eigenvalues)[::-1]\n",
        "    eigenvalues = eigenvalues[sortedEigVals]\n",
        "    V = V[:, sortedEigVals]\n",
        "\n",
        "    # Step 4: need to take square root of eigen values for singular values\n",
        "    singular_values = np.sqrt(eigenvalues)\n",
        "\n",
        "    # Step 5: get U matrix - which is the normalized projections of A onto V\n",
        "    U = np.zeros(A.shape)\n",
        "    for i in range(len(singular_values)):\n",
        "      # have a condition check to avoid division by zero\n",
        "        if singular_values[i] > 1e-10:\n",
        "          #was getting warning about imaginary numbers, so filtering them out.\n",
        "            U[:, i] = np.real(A @ V[:, i] / singular_values[i])\n",
        "\n",
        "    # Step 6: with all the parts, can finally construct the Sigma matrix\n",
        "    Sigma = np.zeros_like(A, dtype=float)\n",
        "    #was getting warning about imaginary numbers, so filtering them out\n",
        "    np.fill_diagonal(Sigma, np.real(singular_values))\n",
        "\n",
        "    return U, Sigma, V.T\n",
        "\n",
        "# first, I wish to generate a random 3x5 matrix. This is arbitrary since SVD works\n",
        "# for non-square matrices\n",
        "print(f\"Random 3x5 Matrix A:\")\n",
        "\n",
        "# Set seed for reproducibility\n",
        "np.random.seed(13)\n",
        "\n",
        "A = np.random.randint(100, size=(3, 5))\n",
        "\n",
        "print(A)\n",
        "\n",
        "\n",
        "# My SVD implementation\n",
        "U_my, Sigma_my, Vt_my = my_svd(A)\n",
        "\n",
        "# Using NumPy's built-in SVD\n",
        "U_np, Sigma_np, Vt_np = np.linalg.svd(A)\n",
        "\n",
        "# Displaying Results\n",
        "print(\"My SVD Results:\")\n",
        "print(\"U:\\n\", U_my)\n",
        "print(\"Sigma:\\n\", Sigma_my)\n",
        "print(\"V^T:\\n\", Vt_my)\n",
        "\n",
        "print(\"\\nNumPy SVD Results:\")\n",
        "print(\"U:\\n\", U_np)\n",
        "print(\"Sigma:\\n\", np.diag(Sigma_np))\n",
        "print(\"V^T:\\n\", Vt_np)\n",
        "\n",
        "# Theorem 1.4.1: Rank example\n",
        "# If an m × n matrix A has r non-zero singular values,\n",
        "# σ1, ..., σr ≥ 0 with σr+1 =···= σn = 0, then the dimension of col(A) = r.\n",
        "# expect it to output 3\n",
        "rank = np.sum(Sigma_my.diagonal() > 1e-10)\n",
        "print(f\"\\nRank of matrix A (from singular values): {rank}\")\n"
      ]
    },
    {
      "cell_type": "markdown",
      "source": [
        "#   1.4.2. Low-rank matrix approximations\n",
        "\n",
        "In low-rank matrix approximations, we use matrix norms to measure the distance between matrices. The 2-norm, or induced norm, of a matrix $A \\in \\mathbb{R}^{n \\times m}$ is defined as $\\|A\\|_2 = \\max_{x \\ne 0} \\frac{\\|Ax\\|}{\\|x\\|}$. Using Singular Value Decomposition (SVD), a matrix $A$ can be expressed as $A = \\sum_{j=1}^r \\sigma_j u_j v_j^T$, where $\\sigma_j$ are the singular values and $u_j$, $v_j$ are the left and right singular vectors, respectively. For a given rank $k < r$, the truncated matrix $A_k = \\sum_{j=1}^k \\sigma_j u_j v_j^T$ provides the best low-rank approximation in the 2-norm sense, minimizing the approximation error $\\|A - A_k\\|_2$, which equals $\\sigma_{k+1}^2$. As the rank of a matrix approximation decreases, the approximation error will likely increase since lower-rank approximations capture fewer singular values, which of course leads to a larger discrepancy between the original matrix and its approximation.\n",
        "\n",
        "\n"
      ],
      "metadata": {
        "id": "XyE9tF1ZLimK"
      }
    },
    {
      "cell_type": "code",
      "source": [
        "# in this code I will create a random 4x4 matrix, then reconstruct it with rank = 4, rank = 3 and rank = 2\n",
        "# will define a function to perform SVD and reconstruct matrix with different ranks\n",
        "def svd_reconstruction(A, rank):\n",
        "    # Will use linalg's implementation of SVD for efficiency\n",
        "    U, S, Vt = np.linalg.svd(A)\n",
        "\n",
        "    # Now want to create a diagonal matrix for the singular values\n",
        "    Sigma = np.zeros_like(A, dtype=float)\n",
        "    np.fill_diagonal(Sigma, S)\n",
        "\n",
        "    # Reconstruct using the given rank\n",
        "\n",
        "    S_truncated = np.zeros_like(Sigma)\n",
        "    S_truncated[:rank, :rank] = np.diag(S[:rank])\n",
        "    A_reconstructed = U @ S_truncated @ Vt\n",
        "\n",
        "\n",
        "    return A_reconstructed\n",
        "\n",
        "# Randomly generate a 4x4 matrix\n",
        "A = np.random.randint(100, size=(4, 4))\n",
        "\n",
        "# call on function with full rank (rank = 4) reconstruction\n",
        "A_rank_4 = svd_reconstruction(A, rank=4)\n",
        "\n",
        "# call on function with reduced rank (rank = 3) reconstruction\n",
        "A_rank_3 = svd_reconstruction(A, rank=3)\n",
        "\n",
        "# call on function with reduced rank (rank = 2) reconstruction\n",
        "A_rank_2 = svd_reconstruction(A, rank=2)\n",
        "\n",
        "# Compare original and reconstructed matrices\n",
        "print(\"Original Matrix A:\\n\", A)\n",
        "print(\"\\nReconstructed Matrix with Full Rank (rank = 4):\\n\", A_rank_4)\n",
        "print(\"\\nReconstructed Matrix with Rank = 3:\\n\", A_rank_3)\n",
        "print(\"\\nReconstructed Matrix with Rank = 2:\\n\", A_rank_2)\n",
        "\n",
        "# Calculate the difference (error) between the original and reconstructed matrices\n",
        "# will use the frobenius norm approach\n",
        "error_rank_4 = np.linalg.norm(A - A_rank_4)\n",
        "error_rank_3 = np.linalg.norm(A - A_rank_3)\n",
        "error_rank_2 = np.linalg.norm(A - A_rank_2)\n",
        "\n",
        "# although these numbers are just magnitude, can still see just how significant\n",
        "# the error is, relative to the different rank reconstructions\n",
        "print(f\"\\nError between original and rank=4 reconstruction: {error_rank_4}\")\n",
        "print(f\"Error between original and rank=3 reconstruction: {error_rank_3}\")\n",
        "print(f\"Error between original and rank=2 reconstruction: {error_rank_2}\")\n"
      ],
      "metadata": {
        "colab": {
          "base_uri": "https://localhost:8080/"
        },
        "id": "_g4a-JFvvwoP",
        "outputId": "624a54a9-bd8e-4301-8139-c173b1408d96"
      },
      "execution_count": 6,
      "outputs": [
        {
          "output_type": "stream",
          "name": "stdout",
          "text": [
            "Original Matrix A:\n",
            " [[79 86 38 83]\n",
            " [10 24 22 61]\n",
            " [62 36 94 19]\n",
            " [ 5  0 85 47]]\n",
            "\n",
            "Reconstructed Matrix with Full Rank (rank = 4):\n",
            " [[ 7.90000000e+01  8.60000000e+01  3.80000000e+01  8.30000000e+01]\n",
            " [ 1.00000000e+01  2.40000000e+01  2.20000000e+01  6.10000000e+01]\n",
            " [ 6.20000000e+01  3.60000000e+01  9.40000000e+01  1.90000000e+01]\n",
            " [ 5.00000000e+00 -4.06057857e-14  8.50000000e+01  4.70000000e+01]]\n",
            "\n",
            "Reconstructed Matrix with Rank = 3:\n",
            " [[ 7.90302149e+01  8.59641000e+01  3.79913467e+01  8.30123713e+01]\n",
            " [ 9.93999389e+00  2.40712965e+01  2.20171853e+01  6.09754309e+01]\n",
            " [ 6.19680527e+01  3.60379583e+01  9.40091494e+01  1.89869194e+01]\n",
            " [ 5.03737645e+00 -4.44090054e-02  8.49892957e+01  4.70153035e+01]]\n",
            "\n",
            "Reconstructed Matrix with Rank = 2:\n",
            " [[76.91164419 85.17608845 37.81124906 85.77395793]\n",
            " [30.58073988 31.74871094 23.77183485 34.06992966]\n",
            " [41.36344892 28.37398719 92.25757226 45.84530877]\n",
            " [22.27608538  6.36760305 86.45474145 24.5444052 ]]\n",
            "\n",
            "Error between original and rank=4 reconstruction: 1.0421304439450381e-13\n",
            "Error between original and rank=3 reconstruction: 0.1358190156925386\n",
            "Error between original and rank=2 reconstruction: 57.252576070492395\n"
          ]
        }
      ]
    },
    {
      "cell_type": "markdown",
      "source": [
        "#  1.4.3. Principal component analysis\n",
        "\n",
        "Principal Component Analysis (PCA) is a technique used to reduce the dimensionality of a dataset while preserving as much variance as possible. Given a data matrix $X$ with $p$ variables and $N$ observations, PCA involves the following steps:\n",
        "\n",
        "1. **Mean-Centering:** Subtract the sample mean $M$ from each observation to center the data matrix, resulting in the mean-deviation form $B$ where $B = [\\hat{X}_1, \\hat{X}_2, \\dots, \\hat{X}_N]$ and $\\hat{X}_k = X_k - M$.\n",
        "\n",
        "2. **Covariance Matrix:** Compute the covariance matrix $S$ using $S = \\frac{1}{N-1} BB^T$. This matrix captures the variance and covariance of the data.\n",
        "\n",
        "3. **Eigenvalue Decomposition:** Perform eigenvalue decomposition on the covariance matrix $S$. The principal components are the eigenvectors corresponding to the largest eigenvalues of $S$, which maximize the variance explained by the data.\n",
        "\n",
        "4. **Total Variance:** The total variance of the data is given by the trace of the covariance matrix $\\text{tr}(S)$, which is the sum of the diagonal entries of $S$. The fraction of the total variance explained by the first $k$ principal components is $\\frac{\\sum_{j=1}^k \\lambda_j}{\\text{tr}(S)}$, where $\\lambda_j$ are the eigenvalues.\n",
        "\n",
        "By projecting the original data onto these principal components, PCA transforms the data and makes it easier to analyze and visualize the data in reduced dimensions. Once again, this is an extremely important application used in real world applications and of course, data science. When given a dataset with high-dimensional data, PCA can be used to simplify models, improve efficiency as welll as allow for a visualization of complex datasets in lower dimensions."
      ],
      "metadata": {
        "id": "1YBRelvkEIrq"
      }
    },
    {
      "cell_type": "code",
      "source": [
        "#will use pandas\n",
        "import pandas as pd\n",
        "\n",
        "# Number of students\n",
        "num_students = 100\n",
        "\n",
        "# Generate random data for Exam Score, Homework Score, and Class Participation\n",
        "# Mean and standard deviation chosen arbitrarily for each variable\n",
        "exam_scores = np.random.normal(80, 13, num_students)\n",
        "homework_scores = np.random.normal(75, 18, num_students)\n",
        "participation_scores = np.random.normal(95, 3, num_students)\n",
        "\n",
        "# Combine into a data matrix (p=3 variables, N=num_students)\n",
        "X = np.vstack([exam_scores, homework_scores, participation_scores]).T\n",
        "\n",
        "# now convert the data matrix into a pandas DataFrame (df) for easier visualization\n",
        "df = pd.DataFrame(X, columns=['Exam Score', 'Homework Score', 'Participation'])\n",
        "\n",
        "# Step 1: Compute the sample mean M of the observation vectors\n",
        "mean_vector = np.mean(X, axis=0)\n",
        "\n",
        "# Step 2: Center the data (mean-deviation form)\n",
        "X_centered = X - mean_vector  # Subtract mean from each column\n",
        "\n",
        "# Step 3: Compute the covariance matrix S\n",
        "N = X.shape[0]\n",
        "# S = (1/N-1) B B^T\n",
        "cov_matrix = (1 / (N - 1)) * (X_centered.T @ X_centered)\n",
        "\n",
        "# Step 4: compute the eigenvalues and eigenvectors for\n",
        "# Principle Component Analysis\n",
        "eigenvalues, eigenvectors = np.linalg.eig(cov_matrix)\n",
        "\n",
        "# Total variance (which is the trace of the covariance matrix)\n",
        "total_variance = np.trace(cov_matrix)\n",
        "\n",
        "# will now consider the top 2 components, explain their variance\n",
        "k = 2\n",
        "variance_explained = np.sum(eigenvalues[:k]) / total_variance * 100\n",
        "\n",
        "# will now print the respective covariance matrix and relevant results\n",
        "print(\"Covariance Matrix (S):\\n\", cov_matrix)\n",
        "print(\"\\nTotal variance (trace of S):\", total_variance)\n",
        "print(f\"\\nEigenvalues: {eigenvalues}\")\n",
        "print(f\"Top {k} principal components explain {variance_explained:.2f}% of the variance.\")\n",
        "\n",
        "# can also view the data in mean-deviation form (first 5 rows)\n",
        "print(\"\\nData (mean-deviation form):\\n\", X_centered[:5])\n",
        "\n",
        "# will now plot the data and principal components for a visual\n",
        "# understanding of whats going on\n",
        "plt.figure(figsize=(10, 7))\n",
        "\n",
        "# create acatter plot of the data\n",
        "plt.scatter(X_centered[:, 0], X_centered[:, 1], alpha=0.5)\n",
        "\n",
        "# will now plot the principal components\n",
        "for i in range(k):\n",
        "    plt.arrow(0, 0, eigenvectors[0, i] * np.sqrt(eigenvalues[i]), eigenvectors[1, i] * np.sqrt(eigenvalues[i]),\n",
        "              head_width=0.5, head_length=0.5, fc='red', ec='red')\n",
        "\n",
        "plt.xlabel('Exam Score')\n",
        "plt.ylabel('Homework Score')\n",
        "plt.title('PCA: Data and Principal Components')\n",
        "plt.grid(True)\n",
        "plt.show()\n"
      ],
      "metadata": {
        "colab": {
          "base_uri": "https://localhost:8080/",
          "height": 919
        },
        "id": "05s1WvpQDagN",
        "outputId": "9f2171f3-07ce-4a42-e931-c0bb6bac8446"
      },
      "execution_count": 13,
      "outputs": [
        {
          "output_type": "stream",
          "name": "stdout",
          "text": [
            "Covariance Matrix (S):\n",
            " [[147.73856252  11.58003181  -5.17810645]\n",
            " [ 11.58003181 288.93189598   2.02868842]\n",
            " [ -5.17810645   2.02868842   9.66383925]]\n",
            "\n",
            "Total variance (trace of S): 446.33429775782554\n",
            "\n",
            "Eigenvalues: [289.88449278 147.0016219    9.44818307]\n",
            "Top 2 principal components explain 97.88% of the variance.\n",
            "\n",
            "Data (mean-deviation form):\n",
            " [[ 1.57300857e+01  2.79301283e+01 -1.95423260e+00]\n",
            " [ 3.73039041e+00  4.27606804e+01 -2.95869494e-01]\n",
            " [ 5.54444908e+00 -6.77355731e+00 -5.17907730e-03]\n",
            " [-3.12151449e+01  5.98903273e+00 -1.87798424e+00]\n",
            " [-1.70115294e+00  2.17023163e+01 -4.50151812e-01]]\n"
          ]
        },
        {
          "output_type": "display_data",
          "data": {
            "text/plain": [
              "<Figure size 1000x700 with 1 Axes>"
            ],
            "image/png": "[encoded data removed]"
          },
          "metadata": {}
        }
      ]
    }
  ]
}