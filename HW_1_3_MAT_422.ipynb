{
  "nbformat": 4,
  "nbformat_minor": 0,
  "metadata": {
    "colab": {
      "provenance": [],
      "authorship_tag": "ABX9TyOntNN+1jE1j/E3hftWHC27",
      "include_colab_link": true
    },
    "kernelspec": {
      "name": "python3",
      "display_name": "Python 3"
    },
    "language_info": {
      "name": "python"
    }
  },
  "cells": [
    {
      "cell_type": "markdown",
      "metadata": {
        "id": "view-in-github",
        "colab_type": "text"
      },
      "source": [
        "<a href=\"https://colab.research.google.com/github/aherre52/MAT422/blob/main/HW_1_3_MAT_422.ipynb\" target=\"_parent\"><img src=\"https://colab.research.google.com/assets/colab-badge.svg\" alt=\"Open In Colab\"/></a>"
      ]
    },
    {
      "cell_type": "markdown",
      "source": [
        "# **HW 1.3**\n",
        "# **Elements of Linear Algebra**\n",
        "\n",
        "Concepts covered:\n",
        "\n",
        "\n",
        "*   1.3.1. QR decomposition\n",
        "*   1.3.2. Least-squares problems\n",
        "*   1.3.3. Linear regression\n",
        "\n",
        "\n",
        "\n",
        "\n",
        "\n"
      ],
      "metadata": {
        "id": "ix_h5JSajFrt"
      }
    },
    {
      "cell_type": "markdown",
      "source": [
        "# 1.3.1 QR Decomposition\n",
        "\n",
        "QR decomposition is a method of decomposing a matrix $ A $ into two components: $ Q $ and $ R $. The matrix $ Q $ is an orthonormal matrix, derived from applying the Gram-Schmidt process on matrix $A$. The matrix $ R $ is upper triangular, containing the coefficients used to express the original columns of $ A $ as linear combinations of the orthonormal vectors in $ Q $.\n",
        "\n",
        "Mathematically, QR decomposition can be written as:\n",
        "\n",
        "$\n",
        "A = QR\n",
        "$\n",
        "\n",
        "where $ Q $ is a matrix with orthonormal columns and $ R $ is upper triangular. Given $ A = QR $, multiplying by $Q^T$ on LHS gives, $ Q^TA = Q^TQR $. Since Since $Q$ is an orthonormal matrix, multiplying $Q$ by its transpose $Q^T$ results in the identity matrix:\n",
        "\n",
        "$\n",
        "𝑄Q^T=𝐼\n",
        "$\n",
        "\n",
        "Thus resulting in $R = Q^TA$"
      ],
      "metadata": {
        "id": "leV5PiXPKv44"
      }
    },
    {
      "cell_type": "code",
      "execution_count": 5,
      "metadata": {
        "colab": {
          "base_uri": "https://localhost:8080/"
        },
        "id": "O9MSxTJojCNn",
        "outputId": "8345ff65-3083-49f1-9008-82b85c1424d0"
      },
      "outputs": [
        {
          "output_type": "stream",
          "name": "stdout",
          "text": [
            "Matrix A:\n",
            "[[ 1.  2.  4.]\n",
            " [ 3.  8. 14.]\n",
            " [ 2.  6. 13.]]\n",
            "\n",
            "Matrix Q (Orthonormal basis):\n",
            "[[-0.26726124  0.77151675  0.57735027]\n",
            " [-0.80178373  0.15430335 -0.57735027]\n",
            " [-0.53452248 -0.6172134   0.57735027]]\n",
            "\n",
            "Matrix R (Upper triangular matrix):\n",
            "[[ -3.74165739 -10.15592719 -19.24280942]\n",
            " [  0.          -0.9258201   -2.7774603 ]\n",
            " [  0.           0.           1.73205081]]\n",
            "\n",
            "Reconstructed A from Q and R (A = QR):\n",
            "[[ 1.  2.  4.]\n",
            " [ 3.  8. 14.]\n",
            " [ 2.  6. 13.]]\n",
            "\n",
            "Check that A == QR (should be zero or really close to zero):\n",
            "[[ 3.33066907e-16  6.66133815e-16 -8.88178420e-16]\n",
            " [ 0.00000000e+00  8.88178420e-16  0.00000000e+00]\n",
            " [ 0.00000000e+00  0.00000000e+00  0.00000000e+00]]\n",
            "\n",
            "Will now multipy Q^TQ to get identity matrix (values will be really close to 0)\n",
            "[[ 1.00000000e+00  4.17322119e-17 -8.71199496e-17]\n",
            " [ 4.17322119e-17  1.00000000e+00 -1.44527340e-16]\n",
            " [-8.71199496e-17 -1.44527340e-16  1.00000000e+00]]\n",
            "\n",
            "Reconstructed R from Q^T and A (R = Q^TA):\n",
            "[[-3.74165739e+00 -1.01559272e+01 -1.92428094e+01]\n",
            " [ 2.22044605e-16 -9.25820100e-01 -2.77746030e+00]\n",
            " [ 4.44089210e-16  8.88178420e-16  1.73205081e+00]]\n",
            "\n",
            "Check that R == Q^TA (should be zero or really close to zero):\n",
            "[[ 0.00000000e+00  1.77635684e-15  0.00000000e+00]\n",
            " [-2.22044605e-16 -4.44089210e-16  1.77635684e-15]\n",
            " [-4.44089210e-16 -8.88178420e-16 -1.33226763e-15]]\n"
          ]
        }
      ],
      "source": [
        "#need these libraries to work with matrices and create figures\n",
        "import numpy as np\n",
        "import matplotlib.pyplot as plt\n",
        "\n",
        "# Will define the 3x3 matrix A, as float values as well\n",
        "A = np.array([[1, 2, 4],\n",
        "              [3, 8, 14],\n",
        "              [2, 6, 13]], dtype=float)\n",
        "\n",
        "# Call on np.linalg method to perform QR decomposition of A\n",
        "# Alternatively, I could have used my QR code from HW 1.2\n",
        "Q, R = np.linalg.qr(A)\n",
        "\n",
        "# Output the results\n",
        "print(\"Matrix A:\")\n",
        "print(A)\n",
        "print(\"\\nMatrix Q (Orthonormal basis):\")\n",
        "print(Q)\n",
        "print(\"\\nMatrix R (Upper triangular matrix):\")\n",
        "print(R)\n",
        "\n",
        "# Now want to reconstruct A from QR to show that A = QR\n",
        "A_reconstructed = np.dot(Q, R)\n",
        "print(\"\\nReconstructed A from Q and R (A = QR):\")\n",
        "print(A_reconstructed)\n",
        "\n",
        "# Check if the QR decomposition is correct (should be close to A)\n",
        "print(\"\\nCheck that A == QR (should be zero or really close to zero):\")\n",
        "print(A - A_reconstructed)\n",
        "\n",
        "# Will also show Q * Q^T is idnetity and R = Q^T*A\n",
        "\n",
        "Q_T = Q.T\n",
        "\n",
        "identity = np.dot(Q_T,Q)\n",
        "print(\"\\nWill now multipy Q^TQ to get identity matrix (values will be really close to 0)\")\n",
        "print(identity)\n",
        "\n",
        "# Finally show that R = Q^T*A\n",
        "\n",
        "R_defined = np.dot(Q_T, A)\n",
        "\n",
        "print(\"\\nReconstructed R from Q^T and A (R = Q^TA):\")\n",
        "print(R_defined)\n",
        "\n",
        "# Check that R matches R_defined\n",
        "print(\"\\nCheck that R == Q^TA (should be zero or really close to zero):\")\n",
        "print(R - R_defined)\n",
        "\n"
      ]
    },
    {
      "cell_type": "markdown",
      "source": [
        "# 1.3.2 Least-squares problems\n",
        "\n",
        "Given the system $Ax = b$, where $A \\in \\mathbb{R}^{n \\times m}$ and $b \\in \\mathbb{R}^n$, if we wish to solve this, must account for the fact that the system is often inconsistent. To address this, we find the vector $x^*$ that minimizes the squared difference between $Ax$ and $b$,\n",
        "\n",
        "$$ \\min_{x \\in \\mathbb{R}^m} \\|Ax - b\\|. $$\n",
        "\n",
        "By applying QR decomposition, where $A = QR$ with $Q$ orthogonal and $R$ upper triangular, the least squares solution is found by solving the equation:\n",
        "\n",
        "$$ A x^* = QR x^* $$\n",
        "\n",
        "$$ Q^T QR x^* = Q^Tb$$\n",
        "\n",
        "Given $ Q^T Q = I$, can apply this property to the above $ Q^T QR x^* = Q^Tb$, which simplifies to:\n",
        "\n",
        "$$ R x^* = Q^T b. $$\n",
        "\n",
        "This method avoids directly computing the inverse of $A$ and can be used when $A$ has linearly independent columns. Can alternatively use the inverse of $A$ approach when if n = m and $A$ is a square matrix.\n",
        "\n",
        "\n"
      ],
      "metadata": {
        "id": "XyE9tF1ZLimK"
      }
    },
    {
      "cell_type": "code",
      "source": [
        "# Define matrix A as (3x2)\n",
        "A = np.array([[2,1],\n",
        "             [1,3],\n",
        "             [4,1]])\n",
        "\n",
        "# Define vector b as (3x1)\n",
        "b = np.array([4,4,9])\n",
        "\n",
        "# Will now use the steps outlined in textbook for least squares solution of above problem\n",
        "# use QR decomposition of A\n",
        "\n",
        "Q, R = np.linalg.qr(A)\n",
        "\n",
        "# Form the orthogonal projection matrix: Pcol(A) = QQT. will not make a pcol(A) variable, will skip this step\n",
        "\n",
        "# Apply the projection to b and observe that x∗ satisfies: Ax∗ = QQT b.\n",
        "\n",
        "Q_T_b = np.dot(Q.T, b)\n",
        "\n",
        "#Use the QR decomposition for A to get\n",
        "# Ax* = QRx∗ = QQ^T b.\n",
        "# Note QTQ = Im×m and multiply both sides by QT to get\n",
        "# Rx* = Q^T b\n",
        "\n",
        "# will finally solve Rx*=Q^T b by using back substituion\n",
        "x_star = np.linalg.solve(R, Q_T_b)\n",
        "\n",
        "print(\"Least-squares solution (x*):\")\n",
        "print(x_star)\n",
        "\n",
        "# can now verify the solution that Ax ≈ b\n",
        "Ax = np.dot(A, x_star)\n",
        "print(\"\\nAx:\")\n",
        "print(Ax)\n",
        "\n",
        "print(\"\\nb:\")\n",
        "print(b)"
      ],
      "metadata": {
        "colab": {
          "base_uri": "https://localhost:8080/"
        },
        "id": "_g4a-JFvvwoP",
        "outputId": "b78d47a2-bf9e-4ad5-bfe3-9de06a828f4a"
      },
      "execution_count": 9,
      "outputs": [
        {
          "output_type": "stream",
          "name": "stdout",
          "text": [
            "Least-squares solution (x*):\n",
            "[2.02 0.62]\n",
            "\n",
            "Ax:\n",
            "[4.66 3.88 8.7 ]\n",
            "\n",
            "b:\n",
            "[4 4 9]\n"
          ]
        }
      ]
    },
    {
      "cell_type": "markdown",
      "source": [
        "# 1.3.3: Linear Regression\n",
        "\n",
        "Linear regression aims to find the best-fitting linear model for a given set of data points $(x_i, y_i)$. The goal is to determine the coefficients $\\beta_0, \\beta_1, \\ldots, \\beta_d$ that minimize the difference between the observed values $y_i$ and the predicted values $\\hat{y}_i$ given by the model:\n",
        "\n",
        "$$\\hat{y}_i = \\beta_0 + \\sum_{j=1}^d \\beta_j x_{ij}.$$\n",
        "\n",
        "To find these coefficients, we approach this problem using a least-squares problem perspective. We want to minimize the sum of squared errors:\n",
        "\n",
        "$$\\min_{\\beta} \\sum_{i=1}^n (y_i - \\hat{y}_i)^2,$$\n",
        "\n",
        "where $\\hat{y}_i$ is the predicted value from the linear model. This problem can be equivalently expressed as:\n",
        "\n",
        "$$\\min_{\\beta} \\| y - A\\beta \\|^2,$$\n",
        "\n",
        "where $A$ is the matrix of data points with an added column of ones for the intercept, and $\\beta$ is the vector of coefficients.\n",
        "\n",
        "Solving this least-squares problem involves computing the coefficients $\\beta$ using the equation:\n",
        "\n",
        "$$\\beta = (A^T A)^{-1} A^T y.$$\n",
        "\n",
        "This equation provides the values for $\\beta$ that minimize the distance between the given data $y$ and $\\hat{y}$, thus giving the best-fit line for the data points.\n"
      ],
      "metadata": {
        "id": "1YBRelvkEIrq"
      }
    },
    {
      "cell_type": "code",
      "source": [
        "#for consistency, generate a fixed seed value\n",
        "np.random.seed(0)\n",
        "\n",
        "#generates 10 random x values\n",
        "x = np.random.rand(10,1)*10\n",
        "\n",
        "# will generate y as being related to x by a coefficient of 3.2, but will add\n",
        "# some random values to it so it will not be directly linear\n",
        "y = 3.2 * x + np.random.rand(10,1)*5\n",
        "\n",
        "# add a column of 1's to include beta_0 in the model\n",
        "A = np.hstack([np.ones((x.shape[0], 1)), x])\n",
        "\n",
        "A_T = A.T\n",
        "\n",
        "# compute the matrix product A^T A, which will be used to find the inverse\n",
        "A_T_A = A_T @ A\n",
        "\n",
        "# compute the inverse of (A^T A) and multiply by A^T and y to get the coefficients beta\n",
        "beta = np.linalg.inv(A_T_A) @ A_T @ y\n",
        "\n",
        "#now that we have the coefficients, will create a y-pred variable\n",
        "y_pred = A@ beta\n",
        "\n",
        "# Flatten beta for plotting\n",
        "beta_flat = beta.flatten()\n",
        "\n",
        "# Plot the results\n",
        "plt.scatter(x, y, color='blue', label='Data Points')\n",
        "plt.plot(x, y_pred, color='red', label='Best Fit Line')\n",
        "plt.xlabel('x')\n",
        "plt.ylabel('y')\n",
        "plt.title('Linear Regression')\n",
        "plt.legend()\n",
        "plt.grid(True)\n",
        "plt.show()\n",
        "\n",
        "print(\"Beta coefficients:\", beta_flat)\n",
        "\n",
        "print(\"Simple linear regression model for sample data:\")\n",
        "print(f\"y = {beta_flat[0]:.2f}+{beta_flat[1]:.2f}*x\")"
      ],
      "metadata": {
        "colab": {
          "base_uri": "https://localhost:8080/",
          "height": 524
        },
        "id": "05s1WvpQDagN",
        "outputId": "432f4f61-6f04-468f-cade-b046f9da7ccc"
      },
      "execution_count": 37,
      "outputs": [
        {
          "output_type": "display_data",
          "data": {
            "text/plain": [
              "<Figure size 640x480 with 1 Axes>"
            ],
            "image/png": "[encoded data removed]"
          },
          "metadata": {}
        },
        {
          "output_type": "stream",
          "name": "stdout",
          "text": [
            "Beta coefficients: [0.83358051 3.50906796]\n",
            "Simple linear regression model for sample data:\n",
            "y = 0.83+3.51*x\n"
          ]
        }
      ]
    }
  ]
}